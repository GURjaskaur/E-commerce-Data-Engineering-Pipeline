{
 "cells": [
  {
   "cell_type": "code",
   "execution_count": 2,
   "metadata": {},
   "outputs": [],
   "source": [
    "import pandas as pd\n",
    "from faker import Faker\n",
    "import random\n",
    "import os"
   ]
  },
  {
   "cell_type": "code",
   "execution_count": 3,
   "metadata": {},
   "outputs": [],
   "source": [
    "fake = Faker()\n",
    "random.seed(42)\n"
   ]
  },
  {
   "cell_type": "code",
   "execution_count": 4,
   "metadata": {},
   "outputs": [],
   "source": [
    "num_records = 500\n"
   ]
  },
  {
   "cell_type": "code",
   "execution_count": 5,
   "metadata": {},
   "outputs": [],
   "source": [
    "def generate_users(n):\n",
    "    users = []\n",
    "    for _ in range(n):\n",
    "        user_id = fake.uuid4()\n",
    "        name = fake.name()\n",
    "        email = fake.email()\n",
    "        signup_date = fake.date_this_decade()\n",
    "        users.append([user_id, name, email, signup_date])\n",
    "    return pd.DataFrame(users, columns=[\"User_ID\", \"Name\", \"Email\", \"Signup_Date\"])\n"
   ]
  },
  {
   "cell_type": "code",
   "execution_count": 6,
   "metadata": {},
   "outputs": [],
   "source": [
    "def generate_products(n):\n",
    "    products = []\n",
    "    for _ in range(n):\n",
    "        product_id = fake.uuid4()\n",
    "        product_name = fake.word()\n",
    "        category = fake.word()\n",
    "        price = round(random.uniform(5.0, 100.0), 2)\n",
    "        products.append([product_id, product_name, category, price])\n",
    "    return pd.DataFrame(products, columns=[\"Product_ID\", \"Product_Name\", \"Category\", \"Price\"])\n"
   ]
  },
  {
   "cell_type": "code",
   "execution_count": 7,
   "metadata": {},
   "outputs": [],
   "source": [
    "def generate_transactions(users, products, n):\n",
    "    transactions = []\n",
    "    for _ in range(n):\n",
    "        transaction_id = fake.uuid4()\n",
    "        user_id = random.choice(users[\"User_ID\"])\n",
    "        product_id = random.choice(products[\"Product_ID\"])\n",
    "        quantity = random.randint(1, 5)\n",
    "        transaction_date = fake.date_this_year()\n",
    "        transactions.append([transaction_id, user_id, product_id, quantity, transaction_date])\n",
    "    return pd.DataFrame(transactions, columns=[\"Transaction_ID\", \"User_ID\", \"Product_ID\", \"Quantity\", \"Transaction_Date\"])\n"
   ]
  },
  {
   "cell_type": "code",
   "execution_count": 8,
   "metadata": {},
   "outputs": [],
   "source": [
    "def main():\n",
    "    users = generate_users(100)\n",
    "    products = generate_products(50)\n",
    "    transactions = generate_transactions(users, products, num_records)\n",
    "\n",
    "    # Create data directory if not exists\n",
    "    os.makedirs(\"data/raw\", exist_ok=True)\n",
    "\n",
    "    # Save data to CSV files\n",
    "    users.to_csv(\"data/raw/users.csv\", index=False)\n",
    "    products.to_csv(\"data/raw/products.csv\", index=False)\n",
    "    transactions.to_csv(\"data/raw/transactions.csv\", index=False)\n",
    "\n",
    "    print(\"Data generated and saved to 'data/raw/' directory\")"
   ]
  },
  {
   "cell_type": "code",
   "execution_count": 9,
   "metadata": {},
   "outputs": [
    {
     "name": "stdout",
     "output_type": "stream",
     "text": [
      "Data generated and saved to 'data/raw/' directory\n"
     ]
    }
   ],
   "source": [
    "if __name__ == \"__main__\":\n",
    "    main()\n"
   ]
  },
  {
   "cell_type": "code",
   "execution_count": null,
   "metadata": {},
   "outputs": [],
   "source": []
  }
 ],
 "metadata": {
  "kernelspec": {
   "display_name": "Python 3",
   "language": "python",
   "name": "python3"
  },
  "language_info": {
   "codemirror_mode": {
    "name": "ipython",
    "version": 3
   },
   "file_extension": ".py",
   "mimetype": "text/x-python",
   "name": "python",
   "nbconvert_exporter": "python",
   "pygments_lexer": "ipython3",
   "version": "3.9.13"
  }
 },
 "nbformat": 4,
 "nbformat_minor": 2
}
